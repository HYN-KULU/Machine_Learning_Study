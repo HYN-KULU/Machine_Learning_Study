{
 "cells": [
  {
   "attachments": {},
   "cell_type": "markdown",
   "metadata": {},
   "source": [
    "# Ridge Regression Codes"
   ]
  },
  {
   "attachments": {},
   "cell_type": "markdown",
   "metadata": {},
   "source": [
    "(请参考上次tutor中的学习渠道了解更多细节)\n",
    "\n",
    "最小二乘法的回归系数结果是$(X^TX)^{-1}X^Ty$\n",
    "\n",
    "当X不是列满秩时，或者某些列之间的线性相关性比较大时，$X^TX$ 的行列式接近于0，即 接近于奇异，上述问题变为一个不适定问题，此时，$(X^TX)^T$ 计算 时误差会很大，传统的最小二乘法缺乏稳定性与可靠性。\n",
    "\n",
    "为了解决上述问题，我们需要将不适定问题转化为适定问题：我们为最小二乘法的损失函数加上一个正则化项，变为$$||y - Xw||^2_2 + \\alpha * ||w||^2_2$$, $\\alpha \\geq 0$\n",
    "\n",
    "然后回归系数的结果成为了$$(X^TX+\\alpha I)^{-1}X^Ty$$"
   ]
  },
  {
   "attachments": {},
   "cell_type": "markdown",
   "metadata": {},
   "source": [
    "## Import Packages"
   ]
  },
  {
   "cell_type": "code",
   "execution_count": 49,
   "metadata": {},
   "outputs": [],
   "source": [
    "import pandas as pd\n",
    "import numpy as np\n",
    "from sklearn.model_selection import train_test_split\n",
    "from sklearn.linear_model import Ridge,RidgeCV ###导入岭回归算法\n",
    "from sklearn.metrics import r2_score\n",
    "import matplotlib.pyplot as plt"
   ]
  },
  {
   "attachments": {},
   "cell_type": "markdown",
   "metadata": {},
   "source": [
    "## Collecting Data\n",
    "数据来源 [here](https://www.kaggle.com/datasets/altavish/boston-housing-dataset). Kaggle Dataset是一个数据集网站。"
   ]
  },
  {
   "attachments": {},
   "cell_type": "markdown",
   "metadata": {},
   "source": [
    "## Read Data"
   ]
  },
  {
   "cell_type": "code",
   "execution_count": 3,
   "metadata": {},
   "outputs": [
    {
     "name": "stdout",
     "output_type": "stream",
     "text": [
      "        CRIM    ZN  INDUS  CHAS    NOX     RM   AGE     DIS  RAD  TAX   \n",
      "0    0.00632  18.0   2.31   0.0  0.538  6.575  65.2  4.0900    1  296  \\\n",
      "1    0.02731   0.0   7.07   0.0  0.469  6.421  78.9  4.9671    2  242   \n",
      "2    0.02729   0.0   7.07   0.0  0.469  7.185  61.1  4.9671    2  242   \n",
      "3    0.03237   0.0   2.18   0.0  0.458  6.998  45.8  6.0622    3  222   \n",
      "4    0.06905   0.0   2.18   0.0  0.458  7.147  54.2  6.0622    3  222   \n",
      "..       ...   ...    ...   ...    ...    ...   ...     ...  ...  ...   \n",
      "501  0.06263   0.0  11.93   0.0  0.573  6.593  69.1  2.4786    1  273   \n",
      "502  0.04527   0.0  11.93   0.0  0.573  6.120  76.7  2.2875    1  273   \n",
      "503  0.06076   0.0  11.93   0.0  0.573  6.976  91.0  2.1675    1  273   \n",
      "504  0.10959   0.0  11.93   0.0  0.573  6.794  89.3  2.3889    1  273   \n",
      "505  0.04741   0.0  11.93   0.0  0.573  6.030   NaN  2.5050    1  273   \n",
      "\n",
      "     PTRATIO       B  LSTAT  MEDV  \n",
      "0       15.3  396.90   4.98  24.0  \n",
      "1       17.8  396.90   9.14  21.6  \n",
      "2       17.8  392.83   4.03  34.7  \n",
      "3       18.7  394.63   2.94  33.4  \n",
      "4       18.7  396.90    NaN  36.2  \n",
      "..       ...     ...    ...   ...  \n",
      "501     21.0  391.99    NaN  22.4  \n",
      "502     21.0  396.90   9.08  20.6  \n",
      "503     21.0  396.90   5.64  23.9  \n",
      "504     21.0  393.45   6.48  22.0  \n",
      "505     21.0  396.90   7.88  11.9  \n",
      "\n",
      "[506 rows x 14 columns]\n"
     ]
    }
   ],
   "source": [
    "house_price= pd.read_csv('./HousingData.csv')\n",
    "print(house_price)"
   ]
  },
  {
   "attachments": {},
   "cell_type": "markdown",
   "metadata": {},
   "source": [
    "## Clean Data I 去除null数据"
   ]
  },
  {
   "cell_type": "code",
   "execution_count": 4,
   "metadata": {},
   "outputs": [
    {
     "name": "stdout",
     "output_type": "stream",
     "text": [
      "CRIM       20\n",
      "ZN         20\n",
      "INDUS      20\n",
      "CHAS       20\n",
      "NOX         0\n",
      "RM          0\n",
      "AGE        20\n",
      "DIS         0\n",
      "RAD         0\n",
      "TAX         0\n",
      "PTRATIO     0\n",
      "B           0\n",
      "LSTAT      20\n",
      "MEDV        0\n",
      "dtype: int64\n"
     ]
    }
   ],
   "source": [
    "house_price_null=house_price.isnull().sum()\n",
    "print(house_price_null)"
   ]
  },
  {
   "attachments": {},
   "cell_type": "markdown",
   "metadata": {},
   "source": [
    "## Clean Data II（去除NAN数据）"
   ]
  },
  {
   "cell_type": "code",
   "execution_count": 5,
   "metadata": {},
   "outputs": [],
   "source": [
    "house_price=house_price.dropna().reset_index()\n",
    "# Drop the rows where at least one element is missing. \n",
    "# Then reset the index since some indices are missing after deleting.\n",
    "\n",
    "# print(house_price)\n",
    "del house_price[\"index\"] # delete the old index, and use the reset new index.\n",
    "# print(house_price[\"index\"])\n",
    "# print(house_price)"
   ]
  },
  {
   "cell_type": "code",
   "execution_count": 6,
   "metadata": {},
   "outputs": [
    {
     "name": "stdout",
     "output_type": "stream",
     "text": [
      "        CRIM    ZN  INDUS  CHAS    NOX     RM   AGE     DIS  RAD  TAX   \n",
      "0    0.00632  18.0   2.31   0.0  0.538  6.575  65.2  4.0900    1  296  \\\n",
      "1    0.02731   0.0   7.07   0.0  0.469  6.421  78.9  4.9671    2  242   \n",
      "2    0.02729   0.0   7.07   0.0  0.469  7.185  61.1  4.9671    2  242   \n",
      "3    0.03237   0.0   2.18   0.0  0.458  6.998  45.8  6.0622    3  222   \n",
      "4    0.02985   0.0   2.18   0.0  0.458  6.430  58.7  6.0622    3  222   \n",
      "..       ...   ...    ...   ...    ...    ...   ...     ...  ...  ...   \n",
      "389  0.17783   0.0   9.69   0.0  0.585  5.569  73.5  2.3999    6  391   \n",
      "390  0.22438   0.0   9.69   0.0  0.585  6.027  79.7  2.4982    6  391   \n",
      "391  0.04527   0.0  11.93   0.0  0.573  6.120  76.7  2.2875    1  273   \n",
      "392  0.06076   0.0  11.93   0.0  0.573  6.976  91.0  2.1675    1  273   \n",
      "393  0.10959   0.0  11.93   0.0  0.573  6.794  89.3  2.3889    1  273   \n",
      "\n",
      "     PTRATIO       B  LSTAT  \n",
      "0       15.3  396.90   4.98  \n",
      "1       17.8  396.90   9.14  \n",
      "2       17.8  392.83   4.03  \n",
      "3       18.7  394.63   2.94  \n",
      "4       18.7  394.12   5.21  \n",
      "..       ...     ...    ...  \n",
      "389     19.2  395.77  15.10  \n",
      "390     19.2  396.90  14.33  \n",
      "391     21.0  396.90   9.08  \n",
      "392     21.0  396.90   5.64  \n",
      "393     21.0  393.45   6.48  \n",
      "\n",
      "[394 rows x 13 columns]\n"
     ]
    }
   ],
   "source": [
    "# drop the \"MEDV\" column 将MEDV划分为预测值\n",
    "# train是变量，MEDV提出作为label训练答案\n",
    "train=house_price.drop([\"MEDV\"],axis=1)\n",
    "print(train)"
   ]
  },
  {
   "attachments": {},
   "cell_type": "markdown",
   "metadata": {},
   "source": [
    "## Split Data 将数据划分成训练集和测试集\n",
    "先随机打乱了数据集，然后拆分成了训练集和测试集的输入和输出，模型的训练都是这个流程\n",
    "\n",
    "可以通过这个链接了解[train_test_split](https://scikit-learn.org/stable/modules/generated/sklearn.model_selection.train_test_split.html#sklearn.model_selection.train_test_split)函数\n"
   ]
  },
  {
   "cell_type": "code",
   "execution_count": 7,
   "metadata": {},
   "outputs": [
    {
     "name": "stdout",
     "output_type": "stream",
     "text": [
      "X_train:  295         CRIM    ZN  INDUS  CHAS    NOX     RM   AGE     DIS  RAD  TAX   \n",
      "179  0.41238   0.0   6.20   0.0  0.504  7.163  79.9  3.2157    8  307  \\\n",
      "107  0.88125   0.0  21.89   0.0  0.624  5.637  94.7  1.9799    4  437   \n",
      "207  0.76162  20.0   3.97   0.0  0.647  5.560  62.8  1.9865    5  264   \n",
      "98   0.14231   0.0  10.01   0.0  0.547  6.254  84.2  2.2565    6  432   \n",
      "236  0.04932  33.0   2.18   0.0  0.472  6.849  70.3  3.1827    7  222   \n",
      "..       ...   ...    ...   ...    ...    ...   ...     ...  ...  ...   \n",
      "203  0.54011  20.0   3.97   0.0  0.647  7.203  81.8  2.1121    5  264   \n",
      "255  0.24103   0.0   7.38   0.0  0.493  6.083  43.7  5.4159    5  287   \n",
      "72   0.05735   0.0   4.49   0.0  0.449  6.630  56.1  4.4377    3  247   \n",
      "235  0.07503  33.0   2.18   0.0  0.472  7.420  71.9  3.0992    7  222   \n",
      "37   0.12269   0.0   6.91   0.0  0.448  6.069  40.0  5.7209    3  233   \n",
      "\n",
      "     PTRATIO       B  LSTAT  \n",
      "179     17.4  372.08   6.36  \n",
      "107     21.2  396.90  18.34  \n",
      "207     13.0  392.40  10.45  \n",
      "98      17.8  388.74  10.45  \n",
      "236     18.4  396.90   7.53  \n",
      "..       ...     ...    ...  \n",
      "203     13.0  392.80   9.59  \n",
      "255     19.6  396.90  12.79  \n",
      "72      18.5  392.30   6.53  \n",
      "235     18.4  396.90   6.47  \n",
      "37      17.9  389.39   9.55  \n",
      "\n",
      "[295 rows x 13 columns]\n",
      "X_test:  295          CRIM    ZN  INDUS  CHAS    NOX     RM    AGE     DIS  RAD  TAX   \n",
      "81    0.11504   0.0   2.89   0.0  0.445  6.163   69.6  3.4952    2  276  \\\n",
      "225   0.04297  52.5   5.32   0.0  0.405  6.565   22.9  7.3172    6  293   \n",
      "353   4.66883   0.0  18.10   0.0  0.713  5.976   87.9  2.5806   24  666   \n",
      "119   4.09740   0.0  19.58   0.0  0.871  5.468  100.0  1.4118    5  403   \n",
      "208   0.57834  20.0   3.97   0.0  0.575  8.297   67.0  2.4216    5  264   \n",
      "..        ...   ...    ...   ...    ...    ...    ...     ...  ...  ...   \n",
      "89    0.13262   0.0   8.56   0.0  0.520  5.851   96.7  2.1069    5  384   \n",
      "307   8.71675   0.0  18.10   0.0  0.693  6.471   98.8  1.7257   24  666   \n",
      "73    0.05188   0.0   4.49   0.0  0.449  6.015   45.1  4.4272    3  247   \n",
      "380   0.20746   0.0  27.74   0.0  0.609  5.093   98.0  1.8226    4  711   \n",
      "310  38.35180   0.0  18.10   0.0  0.693  5.453  100.0  1.4896   24  666   \n",
      "\n",
      "     PTRATIO       B  LSTAT  \n",
      "81      18.0  391.83  11.34  \n",
      "225     16.6  371.72   9.51  \n",
      "353     20.2   10.48  19.01  \n",
      "119     14.7  396.90  26.42  \n",
      "208     13.0  384.54   7.44  \n",
      "..       ...     ...    ...  \n",
      "89      20.9  394.05  16.47  \n",
      "307     20.2  391.98  17.12  \n",
      "73      18.5  395.99  12.86  \n",
      "380     20.1  318.43  29.68  \n",
      "310     20.2  396.90  30.59  \n",
      "\n",
      "[99 rows x 13 columns]\n",
      "y_train:  295 179    31.6\n",
      "107    14.3\n",
      "207    22.8\n",
      "98     18.5\n",
      "236    28.2\n",
      "       ... \n",
      "203    33.8\n",
      "255    22.2\n",
      "72     26.6\n",
      "235    33.4\n",
      "37     21.2\n",
      "Name: MEDV, Length: 295, dtype: float64\n",
      "y_test:  99 81     21.4\n",
      "225    24.8\n",
      "353    12.7\n",
      "119    15.6\n",
      "208    50.0\n",
      "       ... \n",
      "89     19.5\n",
      "307    13.1\n",
      "73     22.5\n",
      "380     8.1\n",
      "310     5.0\n",
      "Name: MEDV, Length: 99, dtype: float64\n"
     ]
    }
   ],
   "source": [
    "X_train,X_test,y_train,y_test=train_test_split(train,house_price[\"MEDV\"],random_state=1)\n",
    "\n",
    "# print(\"X_train: \",len(X_train),X_train)\n",
    "# print(\"X_test: \",len(X_train),X_test)\n",
    "# print(\"y_train: \",len(y_train),y_train)\n",
    "# print(\"y_test: \",len(y_test),y_test)"
   ]
  },
  {
   "attachments": {},
   "cell_type": "markdown",
   "metadata": {},
   "source": [
    "Linear least squares with l2 regularization.\n",
    "Ridge Regression: The target is to minimize the objective function:\n",
    "$$||y - Xw||^2_2 + \\alpha * ||w||^2_2$$"
   ]
  },
  {
   "attachments": {},
   "cell_type": "markdown",
   "metadata": {},
   "source": [
    "## Generate the $\\alpha$ \n",
    "之后选择拟合效果最好的$\\alpha$, 注意到当$\\alpha=0$是，岭回归就是最小二乘法。\n",
    "\n",
    "A key aspect of Ridge regression is to find a good value for $\\alpha$. There are a number a approaches for doing this, although none of them is ideal.\n",
    "\n",
    "有关选择$\\alpha$的细节，可以参考这个[链接](https://real-statistics.com/multiple-regression/ridge-and-lasso-regression/estimating-ridge-regression-lambda/)。"
   ]
  },
  {
   "cell_type": "code",
   "execution_count": 20,
   "metadata": {},
   "outputs": [],
   "source": [
    "# Return numbers spaced evenly on a log scale.\n",
    "Lambdas = np.logspace(-5,2,200) # -5到2均匀分布然后作为10的幂次生成一个list\n",
    "# print(Lambdas)"
   ]
  },
  {
   "attachments": {},
   "cell_type": "markdown",
   "metadata": {},
   "source": [
    "## Start Training and Testing\n",
    "r2_score函数能够衡量训练的拟合效果。\n",
    "可自行了解 coefficient of determination （$R^2$）\n",
    "但($R^2$)不是衡量模型的唯一标准，($R^2$)分数小也可能是效果很好的模型。"
   ]
  },
  {
   "attachments": {},
   "cell_type": "markdown",
   "metadata": {},
   "source": []
  },
  {
   "cell_type": "code",
   "execution_count": 40,
   "metadata": {},
   "outputs": [],
   "source": [
    "score_list=[]\n",
    "ridge_coefficients=[]\n",
    "lambda_list=[]\n",
    "for Lambda in Lambdas:\n",
    "  ridge=Ridge(alpha=Lambda)#确定约束参数\n",
    "  ridge.fit(X_train,y_train)\n",
    "  ridge_coefficients.append(ridge.coef_)\n",
    "  score_list.append(r2_score(y_test,ridge.predict(X_test)))\n",
    "  lambda_list.append(np.log10(Lambda))\n",
    "  # print(\"岭回归训练模型得分：\"+str(r2_score(y_train,ridge.predict(X_train))))#训练集\n",
    "  # print(\"岭回归待测模型得分：\"+str(r2_score(y_test,ridge.predict(X_test))))#待测集\n",
    "  # print(ridge.coef_)"
   ]
  },
  {
   "attachments": {},
   "cell_type": "markdown",
   "metadata": {},
   "source": [
    "### Method I for selecting best $\\alpha$: Ridge Trace 岭轨迹\n",
    "岭回归模型的系数是关于$\\lambda$的函数，绘制不同的$\\lambda$值和对应的回归系数的折线图确定$\\lambda$值，当回归系数随着$\\lambda$值的增加而趋于稳定时，确定$\\lambda$的值。\n",
    "根据不同的$\\lambda$确定回归系数,可以绘制曲线观察趋势\n",
    "\n",
    "We are looking for the **smallest value** of lambda where the **various coefficient plots stabilize**. We want the smallest such value since this will introduce the **least amount of bias**.\n",
    "\n",
    "绘图观察随$\\lambda$值增大，回归系数收敛到0附近。我们绘图要找的是最早收敛稳定的点。\n",
    "\n",
    "这是很直观的，当$\\lambda$很大时，目标优化函数会很大程度收到惩罚项的约束，回归系数需要很小才能抵消惩罚项的影响来让目标函数变小"
   ]
  },
  {
   "cell_type": "code",
   "execution_count": 47,
   "metadata": {},
   "outputs": [
    {
     "data": {
      "image/png": "[encoded data removed]",
      "text/plain": [
       "<Figure size 640x480 with 2 Axes>"
      ]
     },
     "metadata": {},
     "output_type": "display_data"
    }
   ],
   "source": [
    "fig = plt.figure()\n",
    "ax1=plt.subplot(2,1,1)\n",
    "ax2=plt.subplot(2,1,2)\n",
    "ax1.plot(lambda_list,ridge_coefficients)\n",
    "ax2.plot(Lambdas,ridge_coefficients)\n",
    "plt.show()\n"
   ]
  },
  {
   "attachments": {},
   "cell_type": "markdown",
   "metadata": {},
   "source": [
    "### In this ridge regression, when $\\lambda$ increases a lot, the $R^2$ score has an decreasing trend."
   ]
  },
  {
   "cell_type": "code",
   "execution_count": 48,
   "metadata": {},
   "outputs": [
    {
     "data": {
      "image/png": "[encoded data removed]",
      "text/plain": [
       "<Figure size 640x480 with 2 Axes>"
      ]
     },
     "metadata": {},
     "output_type": "display_data"
    }
   ],
   "source": [
    "ax1=plt.subplot(2,1,1)\n",
    "ax2=plt.subplot(2,1,2)\n",
    "ax1.plot(lambda_list,score_list)\n",
    "ax2.plot(Lambdas,score_list)\n",
    "plt.show()"
   ]
  },
  {
   "attachments": {},
   "cell_type": "markdown",
   "metadata": {},
   "source": [
    "###  Method II for selecting best $\\alpha$: Cross-Validation 交叉验证法确定$\\lambda$值"
   ]
  },
  {
   "attachments": {},
   "cell_type": "markdown",
   "metadata": {},
   "source": [
    "![avatar](./cross_validation.png)"
   ]
  },
  {
   "attachments": {},
   "cell_type": "markdown",
   "metadata": {},
   "source": [
    "Details for class RidgeCV can be seen [here](https://scikit-learn.org/stable/modules/generated/sklearn.linear_model.RidgeCV.html#sklearn.linear_model.RidgeCV)."
   ]
  },
  {
   "cell_type": "code",
   "execution_count": 64,
   "metadata": {},
   "outputs": [
    {
     "name": "stdout",
     "output_type": "stream",
     "text": [
      "best score:  0.6906884936537497\n",
      "best alpha:  16.83180353330955\n",
      "result regression coefficients:  [-0.04050027  0.04097978 -0.02808358  1.84764554 -0.67895585  3.61389869\n",
      " -0.01309375 -1.13199722  0.20009543 -0.0111309  -0.73060689  0.01309111\n",
      " -0.59510974]\n"
     ]
    }
   ],
   "source": [
    "ridge_cv = RidgeCV(alphas=Lambdas,scoring='r2',cv=10)\n",
    "# Alt+Z to see the whole text.\n",
    "'''\n",
    "The 'scoring' parameter of RidgeCV must be a str among {'neg_mean_absolute_percentage_error', 'positive_likelihood_ratio', 'average_precision', 'neg_mean_squared_log_error', 'f1_weighted', 'recall_macro', 'balanced_accuracy', 'neg_mean_absolute_error', 'f1', 'fowlkes_mallows_score', 'neg_mean_gamma_deviance', 'neg_mean_poisson_deviance', 'neg_mean_squared_error', 'roc_auc_ovr_weighted', 'rand_score', 'recall_samples', 'roc_auc_ovr', 'matthews_corrcoef', 'precision_samples', 'adjusted_mutual_info_score', 'roc_auc_ovo_weighted', 'jaccard_micro', 'max_error', 'neg_log_loss', 'f1_macro', 'roc_auc', 'jaccard_macro', 'neg_root_mean_squared_error', 'precision_macro', 'f1_samples', 'precision_micro', 'top_k_accuracy', 'roc_auc_ovo', 'neg_median_absolute_error', 'mutual_info_score', 'precision', 'explained_variance', 'homogeneity_score', 'completeness_score', 'recall_weighted', 'neg_brier_score', 'recall', 'jaccard_samples', 'precision_weighted', 'v_measure_score', 'jaccard', 'recall_micro', 'neg_negative_likelihood_ratio', 'adjusted_rand_score', 'normalized_mutual_info_score', 'jaccard_weighted', 'f1_micro', 'accuracy', 'r2'}\n",
    "'''\n",
    "ridge_cv.fit(X_train,y_train)\n",
    "print(\"best score: \",ridge_cv.best_score_)\n",
    "print(\"best alpha: \",ridge_cv.alpha_)\n",
    "print(\"result regression coefficients: \",ridge_cv.coef_)"
   ]
  }
 ],
 "metadata": {
  "kernelspec": {
   "display_name": "neo4j",
   "language": "python",
   "name": "python3"
  },
  "language_info": {
   "codemirror_mode": {
    "name": "ipython",
    "version": 3
   },
   "file_extension": ".py",
   "mimetype": "text/x-python",
   "name": "python",
   "nbconvert_exporter": "python",
   "pygments_lexer": "ipython3",
   "version": "3.9.16"
  },
  "orig_nbformat": 4
 },
 "nbformat": 4,
 "nbformat_minor": 2
}
