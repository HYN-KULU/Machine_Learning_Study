{
 "cells": [
  {
   "cell_type": "code",
   "execution_count": 1,
   "metadata": {},
   "outputs": [],
   "source": [
    "from BPNN import train_data_set\n",
    "import random\n",
    "import numpy as np\n",
    "from activators import SigmoidActivator, IdentityActivator\n",
    "from functools import reduce\n"
   ]
  },
  {
   "cell_type": "code",
   "execution_count": 8,
   "metadata": {},
   "outputs": [],
   "source": [
    "class Normalizer(object):\n",
    "    def __init__(self):\n",
    "        self.mask = [\n",
    "            0x1, 0x2, 0x4, 0x8, 0x10, 0x20, 0x40, 0x80\n",
    "        ]\n",
    "\n",
    "    def norm(self, number):\n",
    "        return list(map(lambda m: 0.9 if number & m else 0.1, self.mask))\n",
    "\n",
    "    def denorm(self, vec):\n",
    "        binary = list(map(lambda i: 1 if i > 0.5 else 0, vec))\n",
    "        for i in range(len(self.mask)):\n",
    "            binary[i] = binary[i] * self.mask[i]\n",
    "        return reduce(lambda x, y: x + y, binary)"
   ]
  },
  {
   "cell_type": "code",
   "execution_count": 9,
   "metadata": {},
   "outputs": [
    {
     "name": "stdout",
     "output_type": "stream",
     "text": [
      "[0.1, 0.9, 0.1, 0.1, 0.9, 0.1, 0.1, 0.9]\n",
      "[0.9, 0.1, 0.9, 0.9, 0.1, 0.9, 0.1, 0.1]\n",
      "[0.1, 0.9, 0.1, 0.1, 0.1, 0.9, 0.9, 0.9]\n",
      "[0.9, 0.9, 0.9, 0.9, 0.1, 0.9, 0.9, 0.9]\n",
      "[0.1, 0.1, 0.1, 0.1, 0.9, 0.1, 0.1, 0.1]\n",
      "[0.1, 0.1, 0.9, 0.1, 0.1, 0.1, 0.9, 0.9]\n",
      "[0.9, 0.1, 0.1, 0.9, 0.9, 0.1, 0.9, 0.1]\n",
      "[0.9, 0.1, 0.9, 0.1, 0.9, 0.9, 0.9, 0.1]\n",
      "[0.9, 0.1, 0.9, 0.1, 0.9, 0.9, 0.9, 0.9]\n",
      "[0.1, 0.9, 0.9, 0.9, 0.9, 0.9, 0.1, 0.1]\n",
      "[0.1, 0.1, 0.1, 0.1, 0.9, 0.9, 0.1, 0.9]\n",
      "[0.9, 0.9, 0.9, 0.9, 0.1, 0.1, 0.9, 0.9]\n",
      "[0.9, 0.1, 0.1, 0.9, 0.9, 0.1, 0.1, 0.1]\n",
      "[0.1, 0.9, 0.1, 0.9, 0.9, 0.1, 0.1, 0.9]\n",
      "[0.9, 0.1, 0.1, 0.1, 0.9, 0.1, 0.9, 0.9]\n",
      "[0.9, 0.9, 0.9, 0.1, 0.9, 0.9, 0.9, 0.1]\n",
      "[0.9, 0.9, 0.1, 0.1, 0.9, 0.1, 0.1, 0.1]\n",
      "[0.9, 0.9, 0.1, 0.9, 0.9, 0.9, 0.9, 0.9]\n",
      "[0.9, 0.1, 0.9, 0.9, 0.1, 0.1, 0.9, 0.1]\n",
      "[0.9, 0.1, 0.9, 0.9, 0.1, 0.1, 0.9, 0.9]\n",
      "[0.1, 0.1, 0.1, 0.9, 0.1, 0.1, 0.9, 0.1]\n",
      "[0.1, 0.9, 0.9, 0.1, 0.1, 0.1, 0.9, 0.9]\n",
      "[0.9, 0.9, 0.1, 0.1, 0.9, 0.1, 0.9, 0.1]\n",
      "[0.9, 0.9, 0.9, 0.1, 0.1, 0.1, 0.9, 0.1]\n",
      "[0.9, 0.9, 0.9, 0.1, 0.1, 0.1, 0.9, 0.9]\n",
      "[0.1, 0.1, 0.9, 0.1, 0.9, 0.1, 0.1, 0.9]\n",
      "[0.9, 0.1, 0.9, 0.1, 0.1, 0.1, 0.1, 0.1]\n",
      "[0.9, 0.9, 0.9, 0.9, 0.9, 0.9, 0.9, 0.1]\n",
      "[0.9, 0.1, 0.9, 0.1, 0.9, 0.9, 0.9, 0.9]\n",
      "[0.1, 0.1, 0.1, 0.9, 0.9, 0.1, 0.1, 0.1]\n",
      "[0.1, 0.1, 0.9, 0.9, 0.1, 0.1, 0.1, 0.1]\n",
      "[0.9, 0.9, 0.1, 0.1, 0.9, 0.9, 0.9, 0.1]\n"
     ]
    }
   ],
   "source": [
    "normalizer = Normalizer()\n",
    "data_set = []\n",
    "labels = []\n",
    "for i in range(0, 256, 8):\n",
    "      n = normalizer.norm(int(random.uniform(0, 256)))\n",
    "      print(n)\n",
    "      data_set.append(n)\n",
    "      labels.append(n)"
   ]
  }
 ],
 "metadata": {
  "kernelspec": {
   "display_name": "base",
   "language": "python",
   "name": "python3"
  },
  "language_info": {
   "codemirror_mode": {
    "name": "ipython",
    "version": 3
   },
   "file_extension": ".py",
   "mimetype": "text/x-python",
   "name": "python",
   "nbconvert_exporter": "python",
   "pygments_lexer": "ipython3",
   "version": "3.9.7"
  },
  "orig_nbformat": 4
 },
 "nbformat": 4,
 "nbformat_minor": 2
}
