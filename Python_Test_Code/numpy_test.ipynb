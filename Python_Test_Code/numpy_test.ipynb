{
 "cells": [
  {
   "cell_type": "code",
   "execution_count": 1,
   "metadata": {},
   "outputs": [
    {
     "name": "stdout",
     "output_type": "stream",
     "text": [
      "[[-0.01116957 -0.09272501  0.04801902 -0.0281906  -0.04023617]\n",
      " [ 0.00800102 -0.01240495  0.09164922  0.08141696 -0.02535758]\n",
      " [ 0.09401783 -0.0785074  -0.0418755  -0.02848039  0.03460124]\n",
      " [-0.04430066 -0.02295652 -0.07455604 -0.03334228 -0.09940499]\n",
      " [ 0.07272107 -0.05034467  0.05998523  0.07248235  0.07627085]]\n",
      "[[0. 0.]\n",
      " [0. 0.]\n",
      " [0. 0.]\n",
      " [0. 0.]\n",
      " [0. 0.]]\n"
     ]
    }
   ],
   "source": [
    "import numpy as np\n",
    "w = np.random.uniform(-0.1, 0.1,(5,5))\n",
    "print(w)\n",
    "zero_test=np.zeros((5,2))\n",
    "print(zero_test)"
   ]
  },
  {
   "cell_type": "code",
   "execution_count": 2,
   "metadata": {},
   "outputs": [
    {
     "name": "stdout",
     "output_type": "stream",
     "text": [
      "[[-0.03698479  0.01032783]\n",
      " [ 0.0237863   0.05155368]\n",
      " [-0.07703839 -0.01279532]\n",
      " [-0.00073253  0.0481352 ]\n",
      " [-0.06306484  0.06893256]]\n",
      "[[-0.00293365 -0.00964063]\n",
      " [-0.00611196  0.00044149]\n",
      " [-0.00427987 -0.00152629]\n",
      " [ 0.01312946 -0.00914423]\n",
      " [-0.01337136  0.00613456]]\n"
     ]
    }
   ],
   "source": [
    "q=np.random.uniform(-0.1,0.1,(5,2))\n",
    "print(q)\n",
    "mult=np.dot(w,q)\n",
    "print(mult)"
   ]
  },
  {
   "cell_type": "code",
   "execution_count": 6,
   "metadata": {},
   "outputs": [
    {
     "name": "stdout",
     "output_type": "stream",
     "text": [
      "[[0.5 0.5]\n",
      " [0.5 0.5]\n",
      " [0.5 0.5]\n",
      " [0.5 0.5]\n",
      " [0.5 0.5]]\n"
     ]
    }
   ],
   "source": [
    "from activators import SigmoidActivator\n",
    "activator=SigmoidActivator()\n",
    "result=activator.forward(zero_test)\n",
    "print(result)"
   ]
  }
 ],
 "metadata": {
  "kernelspec": {
   "display_name": "base",
   "language": "python",
   "name": "python3"
  },
  "language_info": {
   "codemirror_mode": {
    "name": "ipython",
    "version": 3
   },
   "file_extension": ".py",
   "mimetype": "text/x-python",
   "name": "python",
   "nbconvert_exporter": "python",
   "pygments_lexer": "ipython3",
   "version": "3.9.7"
  },
  "orig_nbformat": 4,
  "vscode": {
   "interpreter": {
    "hash": "7565d689a4a556c82698ba5edbeacb92334425c696428c3b584f379ce3b4c71b"
   }
  }
 },
 "nbformat": 4,
 "nbformat_minor": 2
}
